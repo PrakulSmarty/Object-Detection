{
  "cells": [
    {
      "cell_type": "markdown",
      "metadata": {
        "colab_type": "text",
        "id": "view-in-github"
      },
      "source": [
        "<a href=\"https://colab.research.google.com/github/misbah4064/pedestrianDetection/blob/master/pedestrianDetection.ipynb\" target=\"_parent\"><img src=\"https://colab.research.google.com/assets/colab-badge.svg\" alt=\"Open In Colab\"/></a>"
      ]
    },
    {
      "cell_type": "code",
      "execution_count": null,
      "metadata": {
        "colab": {},
        "colab_type": "code",
        "id": "sIhx1hPZFc6g"
      },
      "outputs": [],
      "source": [
        "import cv2\n",
        "from google.colab.patches import cv2_imshow\n",
        "pedestrian_cascade = cv2.CascadeClassifier(\"haarcascade_fullbody.xml\")\n",
        "def pedestrianDetection(frame):\n",
        "    pedestrians = pedestrian_cascade.detectMultiScale( frame, 1.1, 1)\n",
        "    for (x,y,w,h) in pedestrians:\n",
        "        cv2.rectangle(frame,(x,y),(x+w,y+h),(0,255,0),2)\n",
        "        font = cv2.FONT_HERSHEY_DUPLEX\n",
        "        cv2.putText(frame, 'Person', (x + 6, y - 6), font, 0.5, (0, 255, 0), 1)\n",
        "    return frame"
      ]
    },
    {
      "cell_type": "code",
      "execution_count": null,
      "metadata": {
        "colab": {
          "base_uri": "https://localhost:8080/",
          "height": 816
        },
        "colab_type": "code",
        "id": "SSgetNTqHXKj",
        "outputId": "7c8a40c7-5359-4eae-ac18-d9c9d7f1f4c9"
      },
      "outputs": [],
      "source": [
        "input = cv2.imread(\"image.jpg\")\n",
        "output = pedestrianDetection(input)\n",
        "cv2_imshow(output)"
      ]
    },
    {
      "cell_type": "code",
      "execution_count": null,
      "metadata": {},
      "outputs": [],
      "source": [
        "import cv2\n",
        "cap = cv2.VideoCapture('people.mp4')\n",
        "ret, frame = cap.read()\n",
        "frame_height, frame_width, _ = frame.shape\n",
        "out = cv2.VideoWriter('output.avi',cv2.VideoWriter_fourcc('M','J','P','G'), 10, (frame_width,frame_height))\n",
        "print(\"Processing Video...\")\n",
        "while cap.isOpened():\n",
        "  ret, frame = cap.read()\n",
        "  if not ret:\n",
        "    out.release()\n",
        "    break\n",
        "  output = pedestrianDetection(frame)\n",
        "  out.write(output)\n",
        "out.release()\n",
        "print(\"Done processing video\")"
      ]
    }
  ],
  "metadata": {
    "colab": {
      "authorship_tag": "ABX9TyOhn6XsgHdrUXMtrwI6/gzM",
      "include_colab_link": true,
      "name": "pedestrianDetection.ipynb",
      "provenance": []
    },
    "kernelspec": {
      "display_name": "Python 3",
      "name": "python3"
    }
  },
  "nbformat": 4,
  "nbformat_minor": 0
}
